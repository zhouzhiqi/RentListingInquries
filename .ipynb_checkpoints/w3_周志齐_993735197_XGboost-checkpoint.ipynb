{
 "cells": [
  {
   "cell_type": "markdown",
   "metadata": {},
   "source": [
    "# XGboost调参"
   ]
  },
  {
   "cell_type": "markdown",
   "metadata": {
    "collapsed": true
   },
   "source": [
    "gbtree参数:\n",
    "    \n",
    "    learning_rate=0.1\n",
    "    n_estimators=1000  (xboost.cv更快)  (复杂度)\n",
    "    \n",
    "    max_depth=range(3,10,2)\n",
    "    min_child_weight=range(1,6,2)   (复杂度)\n",
    "    \n",
    "    reg_alpha=[0.1,1]\n",
    "    reg_lambda=[0.5,1,2]  (正则参数)\n",
    "\n",
    "    subsample=1\n",
    "    colsample_bytree=np.range(0.3,0.7,0.1)\n",
    "    colsample_bylevel=np.range(0.3,0.7,0.1) (推广性)\n",
    "    \n",
    "固定参数:\n",
    "    \n",
    "    objective=multi:softprob\n",
    "    eval_metric=mlogloss\n",
    "    seed=33\n",
    "    \n",
    "    booster=gbtree\n",
    "    silent=1\n",
    "    nthread=-1\n",
    "    "
   ]
  },
  {
   "cell_type": "markdown",
   "metadata": {},
   "source": [
    "# 导入工具包"
   ]
  },
  {
   "cell_type": "code",
   "execution_count": 1,
   "metadata": {
    "ExecuteTime": {
     "end_time": "2018-02-22T02:38:03.607928Z",
     "start_time": "2018-02-22T02:37:53.336217Z"
    }
   },
   "outputs": [],
   "source": [
    "from xgboost import XGBClassifier\n",
    "import xgboost as xgb\n",
    "\n",
    "from sklearn.model_selection import GridSearchCV\n",
    "from sklearn.model_selection import StratifiedKFold\n",
    "\n",
    "from sklearn.metrics import log_loss\n",
    "# 数据导入与处理\n",
    "import numpy as np\n",
    "import pandas as pd\n",
    "# 数据可视化\n",
    "import matplotlib.pyplot as plt\n",
    "import seaborn as sns\n"
   ]
  },
  {
   "cell_type": "markdown",
   "metadata": {},
   "source": [
    "# 读取数据"
   ]
  },
  {
   "cell_type": "code",
   "execution_count": 2,
   "metadata": {
    "ExecuteTime": {
     "end_time": "2018-02-22T02:38:04.998687Z",
     "start_time": "2018-02-22T02:38:03.607928Z"
    }
   },
   "outputs": [
    {
     "data": {
      "text/html": [
       "<div>\n",
       "<style>\n",
       "    .dataframe thead tr:only-child th {\n",
       "        text-align: right;\n",
       "    }\n",
       "\n",
       "    .dataframe thead th {\n",
       "        text-align: left;\n",
       "    }\n",
       "\n",
       "    .dataframe tbody tr th {\n",
       "        vertical-align: top;\n",
       "    }\n",
       "</style>\n",
       "<table border=\"1\" class=\"dataframe\">\n",
       "  <thead>\n",
       "    <tr style=\"text-align: right;\">\n",
       "      <th></th>\n",
       "      <th>bathrooms</th>\n",
       "      <th>bedrooms</th>\n",
       "      <th>price</th>\n",
       "      <th>price_bathrooms</th>\n",
       "      <th>price_bedrooms</th>\n",
       "      <th>room_diff</th>\n",
       "      <th>room_num</th>\n",
       "      <th>Year</th>\n",
       "      <th>Month</th>\n",
       "      <th>Day</th>\n",
       "      <th>...</th>\n",
       "      <th>walk</th>\n",
       "      <th>walls</th>\n",
       "      <th>war</th>\n",
       "      <th>washer</th>\n",
       "      <th>water</th>\n",
       "      <th>wheelchair</th>\n",
       "      <th>wifi</th>\n",
       "      <th>windows</th>\n",
       "      <th>work</th>\n",
       "      <th>interest_level</th>\n",
       "    </tr>\n",
       "  </thead>\n",
       "  <tbody>\n",
       "    <tr>\n",
       "      <th>0</th>\n",
       "      <td>1.5</td>\n",
       "      <td>3</td>\n",
       "      <td>3000</td>\n",
       "      <td>1200.0</td>\n",
       "      <td>750.000000</td>\n",
       "      <td>-1.5</td>\n",
       "      <td>4.5</td>\n",
       "      <td>2016</td>\n",
       "      <td>6</td>\n",
       "      <td>24</td>\n",
       "      <td>...</td>\n",
       "      <td>0</td>\n",
       "      <td>0</td>\n",
       "      <td>0</td>\n",
       "      <td>0</td>\n",
       "      <td>0</td>\n",
       "      <td>0</td>\n",
       "      <td>0</td>\n",
       "      <td>0</td>\n",
       "      <td>0</td>\n",
       "      <td>1</td>\n",
       "    </tr>\n",
       "    <tr>\n",
       "      <th>1</th>\n",
       "      <td>1.0</td>\n",
       "      <td>2</td>\n",
       "      <td>5465</td>\n",
       "      <td>2732.5</td>\n",
       "      <td>1821.666667</td>\n",
       "      <td>-1.0</td>\n",
       "      <td>3.0</td>\n",
       "      <td>2016</td>\n",
       "      <td>6</td>\n",
       "      <td>12</td>\n",
       "      <td>...</td>\n",
       "      <td>0</td>\n",
       "      <td>0</td>\n",
       "      <td>0</td>\n",
       "      <td>0</td>\n",
       "      <td>0</td>\n",
       "      <td>0</td>\n",
       "      <td>0</td>\n",
       "      <td>0</td>\n",
       "      <td>0</td>\n",
       "      <td>2</td>\n",
       "    </tr>\n",
       "    <tr>\n",
       "      <th>2</th>\n",
       "      <td>1.0</td>\n",
       "      <td>1</td>\n",
       "      <td>2850</td>\n",
       "      <td>1425.0</td>\n",
       "      <td>1425.000000</td>\n",
       "      <td>0.0</td>\n",
       "      <td>2.0</td>\n",
       "      <td>2016</td>\n",
       "      <td>4</td>\n",
       "      <td>17</td>\n",
       "      <td>...</td>\n",
       "      <td>0</td>\n",
       "      <td>0</td>\n",
       "      <td>0</td>\n",
       "      <td>0</td>\n",
       "      <td>0</td>\n",
       "      <td>0</td>\n",
       "      <td>0</td>\n",
       "      <td>0</td>\n",
       "      <td>0</td>\n",
       "      <td>0</td>\n",
       "    </tr>\n",
       "    <tr>\n",
       "      <th>3</th>\n",
       "      <td>1.0</td>\n",
       "      <td>1</td>\n",
       "      <td>3275</td>\n",
       "      <td>1637.5</td>\n",
       "      <td>1637.500000</td>\n",
       "      <td>0.0</td>\n",
       "      <td>2.0</td>\n",
       "      <td>2016</td>\n",
       "      <td>4</td>\n",
       "      <td>18</td>\n",
       "      <td>...</td>\n",
       "      <td>0</td>\n",
       "      <td>0</td>\n",
       "      <td>0</td>\n",
       "      <td>0</td>\n",
       "      <td>0</td>\n",
       "      <td>0</td>\n",
       "      <td>0</td>\n",
       "      <td>0</td>\n",
       "      <td>0</td>\n",
       "      <td>2</td>\n",
       "    </tr>\n",
       "    <tr>\n",
       "      <th>4</th>\n",
       "      <td>1.0</td>\n",
       "      <td>4</td>\n",
       "      <td>3350</td>\n",
       "      <td>1675.0</td>\n",
       "      <td>670.000000</td>\n",
       "      <td>-3.0</td>\n",
       "      <td>5.0</td>\n",
       "      <td>2016</td>\n",
       "      <td>4</td>\n",
       "      <td>28</td>\n",
       "      <td>...</td>\n",
       "      <td>0</td>\n",
       "      <td>0</td>\n",
       "      <td>1</td>\n",
       "      <td>0</td>\n",
       "      <td>0</td>\n",
       "      <td>0</td>\n",
       "      <td>0</td>\n",
       "      <td>0</td>\n",
       "      <td>0</td>\n",
       "      <td>2</td>\n",
       "    </tr>\n",
       "  </tbody>\n",
       "</table>\n",
       "<p>5 rows × 228 columns</p>\n",
       "</div>"
      ],
      "text/plain": [
       "   bathrooms  bedrooms  price  price_bathrooms  price_bedrooms  room_diff  \\\n",
       "0        1.5         3   3000           1200.0      750.000000       -1.5   \n",
       "1        1.0         2   5465           2732.5     1821.666667       -1.0   \n",
       "2        1.0         1   2850           1425.0     1425.000000        0.0   \n",
       "3        1.0         1   3275           1637.5     1637.500000        0.0   \n",
       "4        1.0         4   3350           1675.0      670.000000       -3.0   \n",
       "\n",
       "   room_num  Year  Month  Day       ...        walk  walls  war  washer  \\\n",
       "0       4.5  2016      6   24       ...           0      0    0       0   \n",
       "1       3.0  2016      6   12       ...           0      0    0       0   \n",
       "2       2.0  2016      4   17       ...           0      0    0       0   \n",
       "3       2.0  2016      4   18       ...           0      0    0       0   \n",
       "4       5.0  2016      4   28       ...           0      0    1       0   \n",
       "\n",
       "   water  wheelchair  wifi  windows  work  interest_level  \n",
       "0      0           0     0        0     0               1  \n",
       "1      0           0     0        0     0               2  \n",
       "2      0           0     0        0     0               0  \n",
       "3      0           0     0        0     0               2  \n",
       "4      0           0     0        0     0               2  \n",
       "\n",
       "[5 rows x 228 columns]"
      ]
     },
     "execution_count": 2,
     "metadata": {},
     "output_type": "execute_result"
    }
   ],
   "source": [
    "# 课程网站提供的特征工程编码后的数据（RentListingInquries_FE_train.csv）\n",
    "# 或稀疏编码的形式（RentListingInquries_FE_train.bin）\n",
    "dpath = '../data/RentListingInquries/'\n",
    "train = pd.read_csv(dpath+'RentListingInquries_FE_train.csv')\n",
    "train.head()"
   ]
  },
  {
   "cell_type": "code",
   "execution_count": 3,
   "metadata": {
    "ExecuteTime": {
     "end_time": "2018-02-22T02:38:06.974419Z",
     "start_time": "2018-02-22T02:38:05.000689Z"
    }
   },
   "outputs": [
    {
     "data": {
      "text/html": [
       "<div>\n",
       "<style>\n",
       "    .dataframe thead tr:only-child th {\n",
       "        text-align: right;\n",
       "    }\n",
       "\n",
       "    .dataframe thead th {\n",
       "        text-align: left;\n",
       "    }\n",
       "\n",
       "    .dataframe tbody tr th {\n",
       "        vertical-align: top;\n",
       "    }\n",
       "</style>\n",
       "<table border=\"1\" class=\"dataframe\">\n",
       "  <thead>\n",
       "    <tr style=\"text-align: right;\">\n",
       "      <th></th>\n",
       "      <th>bathrooms</th>\n",
       "      <th>bedrooms</th>\n",
       "      <th>price</th>\n",
       "      <th>price_bathrooms</th>\n",
       "      <th>price_bedrooms</th>\n",
       "      <th>room_diff</th>\n",
       "      <th>room_num</th>\n",
       "      <th>Year</th>\n",
       "      <th>Month</th>\n",
       "      <th>Day</th>\n",
       "      <th>...</th>\n",
       "      <th>virtual</th>\n",
       "      <th>walk</th>\n",
       "      <th>walls</th>\n",
       "      <th>war</th>\n",
       "      <th>washer</th>\n",
       "      <th>water</th>\n",
       "      <th>wheelchair</th>\n",
       "      <th>wifi</th>\n",
       "      <th>windows</th>\n",
       "      <th>work</th>\n",
       "    </tr>\n",
       "  </thead>\n",
       "  <tbody>\n",
       "    <tr>\n",
       "      <th>0</th>\n",
       "      <td>1.0</td>\n",
       "      <td>1</td>\n",
       "      <td>2950</td>\n",
       "      <td>1475.000000</td>\n",
       "      <td>1475.000000</td>\n",
       "      <td>0.0</td>\n",
       "      <td>2.0</td>\n",
       "      <td>2016</td>\n",
       "      <td>6</td>\n",
       "      <td>11</td>\n",
       "      <td>...</td>\n",
       "      <td>0</td>\n",
       "      <td>0</td>\n",
       "      <td>0</td>\n",
       "      <td>0</td>\n",
       "      <td>0</td>\n",
       "      <td>0</td>\n",
       "      <td>0</td>\n",
       "      <td>0</td>\n",
       "      <td>0</td>\n",
       "      <td>0</td>\n",
       "    </tr>\n",
       "    <tr>\n",
       "      <th>1</th>\n",
       "      <td>1.0</td>\n",
       "      <td>2</td>\n",
       "      <td>2850</td>\n",
       "      <td>1425.000000</td>\n",
       "      <td>950.000000</td>\n",
       "      <td>-1.0</td>\n",
       "      <td>3.0</td>\n",
       "      <td>2016</td>\n",
       "      <td>6</td>\n",
       "      <td>24</td>\n",
       "      <td>...</td>\n",
       "      <td>0</td>\n",
       "      <td>0</td>\n",
       "      <td>0</td>\n",
       "      <td>1</td>\n",
       "      <td>0</td>\n",
       "      <td>0</td>\n",
       "      <td>0</td>\n",
       "      <td>0</td>\n",
       "      <td>0</td>\n",
       "      <td>0</td>\n",
       "    </tr>\n",
       "    <tr>\n",
       "      <th>2</th>\n",
       "      <td>1.0</td>\n",
       "      <td>1</td>\n",
       "      <td>3758</td>\n",
       "      <td>1879.000000</td>\n",
       "      <td>1879.000000</td>\n",
       "      <td>0.0</td>\n",
       "      <td>2.0</td>\n",
       "      <td>2016</td>\n",
       "      <td>6</td>\n",
       "      <td>3</td>\n",
       "      <td>...</td>\n",
       "      <td>0</td>\n",
       "      <td>0</td>\n",
       "      <td>0</td>\n",
       "      <td>0</td>\n",
       "      <td>0</td>\n",
       "      <td>0</td>\n",
       "      <td>0</td>\n",
       "      <td>0</td>\n",
       "      <td>0</td>\n",
       "      <td>0</td>\n",
       "    </tr>\n",
       "    <tr>\n",
       "      <th>3</th>\n",
       "      <td>1.0</td>\n",
       "      <td>2</td>\n",
       "      <td>3300</td>\n",
       "      <td>1650.000000</td>\n",
       "      <td>1100.000000</td>\n",
       "      <td>-1.0</td>\n",
       "      <td>3.0</td>\n",
       "      <td>2016</td>\n",
       "      <td>6</td>\n",
       "      <td>11</td>\n",
       "      <td>...</td>\n",
       "      <td>0</td>\n",
       "      <td>0</td>\n",
       "      <td>0</td>\n",
       "      <td>0</td>\n",
       "      <td>0</td>\n",
       "      <td>0</td>\n",
       "      <td>1</td>\n",
       "      <td>0</td>\n",
       "      <td>0</td>\n",
       "      <td>0</td>\n",
       "    </tr>\n",
       "    <tr>\n",
       "      <th>4</th>\n",
       "      <td>2.0</td>\n",
       "      <td>2</td>\n",
       "      <td>4900</td>\n",
       "      <td>1633.333333</td>\n",
       "      <td>1633.333333</td>\n",
       "      <td>0.0</td>\n",
       "      <td>4.0</td>\n",
       "      <td>2016</td>\n",
       "      <td>4</td>\n",
       "      <td>12</td>\n",
       "      <td>...</td>\n",
       "      <td>0</td>\n",
       "      <td>0</td>\n",
       "      <td>0</td>\n",
       "      <td>1</td>\n",
       "      <td>0</td>\n",
       "      <td>0</td>\n",
       "      <td>0</td>\n",
       "      <td>0</td>\n",
       "      <td>0</td>\n",
       "      <td>0</td>\n",
       "    </tr>\n",
       "  </tbody>\n",
       "</table>\n",
       "<p>5 rows × 227 columns</p>\n",
       "</div>"
      ],
      "text/plain": [
       "   bathrooms  bedrooms  price  price_bathrooms  price_bedrooms  room_diff  \\\n",
       "0        1.0         1   2950      1475.000000     1475.000000        0.0   \n",
       "1        1.0         2   2850      1425.000000      950.000000       -1.0   \n",
       "2        1.0         1   3758      1879.000000     1879.000000        0.0   \n",
       "3        1.0         2   3300      1650.000000     1100.000000       -1.0   \n",
       "4        2.0         2   4900      1633.333333     1633.333333        0.0   \n",
       "\n",
       "   room_num  Year  Month  Day  ...   virtual  walk  walls  war  washer  water  \\\n",
       "0       2.0  2016      6   11  ...         0     0      0    0       0      0   \n",
       "1       3.0  2016      6   24  ...         0     0      0    1       0      0   \n",
       "2       2.0  2016      6    3  ...         0     0      0    0       0      0   \n",
       "3       3.0  2016      6   11  ...         0     0      0    0       0      0   \n",
       "4       4.0  2016      4   12  ...         0     0      0    1       0      0   \n",
       "\n",
       "   wheelchair  wifi  windows  work  \n",
       "0           0     0        0     0  \n",
       "1           0     0        0     0  \n",
       "2           0     0        0     0  \n",
       "3           1     0        0     0  \n",
       "4           0     0        0     0  \n",
       "\n",
       "[5 rows x 227 columns]"
      ]
     },
     "execution_count": 3,
     "metadata": {},
     "output_type": "execute_result"
    }
   ],
   "source": [
    "# 测试数据\n",
    "test = pd.read_csv(dpath+'RentListingInquries_FE_test.csv')\n",
    "test.head()"
   ]
  },
  {
   "cell_type": "code",
   "execution_count": 4,
   "metadata": {
    "ExecuteTime": {
     "end_time": "2018-02-22T02:38:07.339972Z",
     "start_time": "2018-02-22T02:38:06.977421Z"
    },
    "scrolled": true
   },
   "outputs": [
    {
     "data": {
      "text/plain": [
       "bathrooms                     0\n",
       "modern                        0\n",
       "month                         0\n",
       "multi                         0\n",
       "natural                       0\n",
       "new                           0\n",
       "newly                         0\n",
       "ok                            0\n",
       "outdoor                       0\n",
       "oversized                     0\n",
       "park                          0\n",
       "parking                       0\n",
       "midrise                       0\n",
       "patio                         0\n",
       "pets                          0\n",
       "photos                        0\n",
       "playroom                      0\n",
       "pool                          0\n",
       "post                          0\n",
       "pre                           0\n",
       "prewar                        0\n",
       "private                       0\n",
       "publicoutdoor                 0\n",
       "queen                         0\n",
       "ramp                          0\n",
       "pet                           0\n",
       "microwave                     0\n",
       "massive                       0\n",
       "marble                        0\n",
       "hi                            0\n",
       "                          ...  \n",
       "dishwasher                    0\n",
       "cable                         0\n",
       "cats                          0\n",
       "ceiling                       0\n",
       "ceilings                      0\n",
       "center                        0\n",
       "central                       0\n",
       "chef                          0\n",
       "children                      0\n",
       "childrens                     0\n",
       "clean                         0\n",
       "cleaning                      0\n",
       "close                         0\n",
       "closet                        0\n",
       "closets                       0\n",
       "club                          0\n",
       "common                        0\n",
       "concierge                     0\n",
       "conditioning                  0\n",
       "construction                  0\n",
       "courtyard                     0\n",
       "deck                          0\n",
       "decorative                    0\n",
       "details                       0\n",
       "dining                        0\n",
       "dogs                          0\n",
       "work                          0\n",
       "display_address_pred_0    74659\n",
       "display_address_pred_1    74659\n",
       "display_address_pred_2    74659\n",
       "Length: 227, dtype: int64"
      ]
     },
     "execution_count": 4,
     "metadata": {},
     "output_type": "execute_result"
    }
   ],
   "source": [
    "test.isnull().sum().sort_values()"
   ]
  },
  {
   "cell_type": "markdown",
   "metadata": {},
   "source": [
    "test中 'display_address_pred_0', 'display_address_pred_1', 'display_address_pred_2' 全部都是nan, 舍弃此特征"
   ]
  },
  {
   "cell_type": "code",
   "execution_count": 5,
   "metadata": {
    "ExecuteTime": {
     "end_time": "2018-02-22T02:38:36.860973Z",
     "start_time": "2018-02-22T02:38:36.719553Z"
    }
   },
   "outputs": [],
   "source": [
    "train.drop(['display_address_pred_0', 'display_address_pred_1', 'display_address_pred_2'], axis=1, inplace=True)\n",
    "test.drop(['display_address_pred_0', 'display_address_pred_1', 'display_address_pred_2'], axis=1, inplace=True)"
   ]
  },
  {
   "cell_type": "markdown",
   "metadata": {},
   "source": [
    "# 分割数据"
   ]
  },
  {
   "cell_type": "code",
   "execution_count": 6,
   "metadata": {
    "ExecuteTime": {
     "end_time": "2018-02-22T02:38:39.204437Z",
     "start_time": "2018-02-22T02:38:38.785502Z"
    }
   },
   "outputs": [
    {
     "data": {
      "image/png": "[encoded data removed]",
      "text/plain": [
       "<matplotlib.figure.Figure at 0x1a97eb816d8>"
      ]
     },
     "metadata": {},
     "output_type": "display_data"
    }
   ],
   "source": [
    "sns.countplot(train['interest_level'])\n",
    "plt.show()"
   ]
  },
  {
   "cell_type": "markdown",
   "metadata": {},
   "source": [
    "三分类问题, 各分类不均衡"
   ]
  },
  {
   "cell_type": "code",
   "execution_count": 7,
   "metadata": {
    "ExecuteTime": {
     "end_time": "2018-02-22T02:38:50.121019Z",
     "start_time": "2018-02-22T02:38:50.096002Z"
    }
   },
   "outputs": [
    {
     "data": {
      "text/plain": [
       "(4935, 225)"
      ]
     },
     "execution_count": 7,
     "metadata": {},
     "output_type": "execute_result"
    }
   ],
   "source": [
    "# 数据量太大,分割数据\n",
    "train = train.sample(frac=0.1)\n",
    "train.shape"
   ]
  },
  {
   "cell_type": "code",
   "execution_count": 8,
   "metadata": {
    "ExecuteTime": {
     "end_time": "2018-02-22T02:38:50.810566Z",
     "start_time": "2018-02-22T02:38:50.782547Z"
    }
   },
   "outputs": [],
   "source": [
    "# 区分测试集与训练集\n",
    "X = train.drop('interest_level', axis=1)\n",
    "y = train['interest_level']\n",
    "\n",
    "from sklearn.model_selection import train_test_split\n",
    "X_train, X_test, y_train, y_test = train_test_split(X, y\n",
    "    , test_size=0.2\n",
    "    , random_state=33\n",
    "    , stratify=y)"
   ]
  },
  {
   "cell_type": "markdown",
   "metadata": {},
   "source": [
    "# XGboost调参"
   ]
  },
  {
   "cell_type": "markdown",
   "metadata": {},
   "source": [
    "## 初步确定n_estimators"
   ]
  },
  {
   "cell_type": "code",
   "execution_count": 9,
   "metadata": {
    "ExecuteTime": {
     "end_time": "2018-02-22T02:38:52.910238Z",
     "start_time": "2018-02-22T02:38:52.904234Z"
    }
   },
   "outputs": [],
   "source": [
    "xgb1 = XGBClassifier(\n",
    "        learning_rate =0.1,\n",
    "        n_estimators=1000,  #数值大没关系，cv会自动返回合适的n_estimators\n",
    "        max_depth=5,\n",
    "        min_child_weight=1,\n",
    "        gamma=0,\n",
    "        subsample=0.3,\n",
    "        colsample_bytree=0.8,\n",
    "        colsample_bylevel=0.7,\n",
    "        objective= 'multi:softprob',\n",
    "        seed=33)"
   ]
  },
  {
   "cell_type": "code",
   "execution_count": 10,
   "metadata": {
    "ExecuteTime": {
     "end_time": "2018-02-22T02:38:54.068950Z",
     "start_time": "2018-02-22T02:38:54.017917Z"
    },
    "cell_style": "center"
   },
   "outputs": [],
   "source": [
    "xgb_param = xgb1.get_xgb_params()\n",
    "xgb_param['num_class'] = 3\n",
    "xgtrain = xgb.DMatrix(X_train, label = y_train)\n",
    "folds=StratifiedKFold(n_splits=5, shuffle=True, random_state=33)\n"
   ]
  },
  {
   "cell_type": "code",
   "execution_count": 11,
   "metadata": {
    "ExecuteTime": {
     "end_time": "2018-02-22T02:39:04.940479Z",
     "start_time": "2018-02-22T02:38:55.116528Z"
    },
    "scrolled": true
   },
   "outputs": [
    {
     "name": "stdout",
     "output_type": "stream",
     "text": [
      "[0]\ttrain-mlogloss:1.04075\ttest-mlogloss:1.04498\n",
      "[10]\ttrain-mlogloss:0.741061\ttest-mlogloss:0.784129\n",
      "[20]\ttrain-mlogloss:0.63625\ttest-mlogloss:0.710676\n",
      "[30]\ttrain-mlogloss:0.580775\ttest-mlogloss:0.686957\n",
      "[40]\ttrain-mlogloss:0.542402\ttest-mlogloss:0.678648\n",
      "[50]\ttrain-mlogloss:0.512994\ttest-mlogloss:0.675775\n",
      "[60]\ttrain-mlogloss:0.486566\ttest-mlogloss:0.67809\n"
     ]
    }
   ],
   "source": [
    "cvresult = xgb.cv(xgb_param\n",
    "                  , xgtrain\n",
    "                  , num_boost_round=1000\n",
    "                  , folds = folds\n",
    "                  , show_stdv=False \n",
    "                  , verbose_eval=10\n",
    "                  , metrics='mlogloss'\n",
    "                  , early_stopping_rounds=10)\n",
    "\n"
   ]
  },
  {
   "cell_type": "code",
   "execution_count": 12,
   "metadata": {
    "ExecuteTime": {
     "end_time": "2018-02-22T02:39:07.219880Z",
     "start_time": "2018-02-22T02:39:07.185858Z"
    },
    "scrolled": true
   },
   "outputs": [
    {
     "data": {
      "text/html": [
       "<div>\n",
       "<style>\n",
       "    .dataframe thead tr:only-child th {\n",
       "        text-align: right;\n",
       "    }\n",
       "\n",
       "    .dataframe thead th {\n",
       "        text-align: left;\n",
       "    }\n",
       "\n",
       "    .dataframe tbody tr th {\n",
       "        vertical-align: top;\n",
       "    }\n",
       "</style>\n",
       "<table border=\"1\" class=\"dataframe\">\n",
       "  <thead>\n",
       "    <tr style=\"text-align: right;\">\n",
       "      <th></th>\n",
       "      <th>test-mlogloss-mean</th>\n",
       "      <th>test-mlogloss-std</th>\n",
       "      <th>train-mlogloss-mean</th>\n",
       "      <th>train-mlogloss-std</th>\n",
       "    </tr>\n",
       "  </thead>\n",
       "  <tbody>\n",
       "    <tr>\n",
       "      <th>0</th>\n",
       "      <td>1.044976</td>\n",
       "      <td>0.000995</td>\n",
       "      <td>1.040754</td>\n",
       "      <td>0.002278</td>\n",
       "    </tr>\n",
       "    <tr>\n",
       "      <th>1</th>\n",
       "      <td>0.998699</td>\n",
       "      <td>0.000309</td>\n",
       "      <td>0.989946</td>\n",
       "      <td>0.003481</td>\n",
       "    </tr>\n",
       "    <tr>\n",
       "      <th>2</th>\n",
       "      <td>0.959845</td>\n",
       "      <td>0.002384</td>\n",
       "      <td>0.946241</td>\n",
       "      <td>0.002680</td>\n",
       "    </tr>\n",
       "    <tr>\n",
       "      <th>3</th>\n",
       "      <td>0.926258</td>\n",
       "      <td>0.003029</td>\n",
       "      <td>0.909181</td>\n",
       "      <td>0.002846</td>\n",
       "    </tr>\n",
       "    <tr>\n",
       "      <th>4</th>\n",
       "      <td>0.896689</td>\n",
       "      <td>0.003618</td>\n",
       "      <td>0.875942</td>\n",
       "      <td>0.003126</td>\n",
       "    </tr>\n",
       "    <tr>\n",
       "      <th>5</th>\n",
       "      <td>0.871659</td>\n",
       "      <td>0.002857</td>\n",
       "      <td>0.846693</td>\n",
       "      <td>0.003299</td>\n",
       "    </tr>\n",
       "    <tr>\n",
       "      <th>6</th>\n",
       "      <td>0.849116</td>\n",
       "      <td>0.003621</td>\n",
       "      <td>0.820327</td>\n",
       "      <td>0.003999</td>\n",
       "    </tr>\n",
       "    <tr>\n",
       "      <th>7</th>\n",
       "      <td>0.829898</td>\n",
       "      <td>0.003804</td>\n",
       "      <td>0.797416</td>\n",
       "      <td>0.004852</td>\n",
       "    </tr>\n",
       "    <tr>\n",
       "      <th>8</th>\n",
       "      <td>0.812857</td>\n",
       "      <td>0.004311</td>\n",
       "      <td>0.776094</td>\n",
       "      <td>0.005212</td>\n",
       "    </tr>\n",
       "    <tr>\n",
       "      <th>9</th>\n",
       "      <td>0.798061</td>\n",
       "      <td>0.004217</td>\n",
       "      <td>0.757562</td>\n",
       "      <td>0.006096</td>\n",
       "    </tr>\n",
       "    <tr>\n",
       "      <th>10</th>\n",
       "      <td>0.784129</td>\n",
       "      <td>0.004794</td>\n",
       "      <td>0.741061</td>\n",
       "      <td>0.006227</td>\n",
       "    </tr>\n",
       "    <tr>\n",
       "      <th>11</th>\n",
       "      <td>0.772312</td>\n",
       "      <td>0.005158</td>\n",
       "      <td>0.726489</td>\n",
       "      <td>0.005780</td>\n",
       "    </tr>\n",
       "    <tr>\n",
       "      <th>12</th>\n",
       "      <td>0.762108</td>\n",
       "      <td>0.005846</td>\n",
       "      <td>0.712005</td>\n",
       "      <td>0.005508</td>\n",
       "    </tr>\n",
       "    <tr>\n",
       "      <th>13</th>\n",
       "      <td>0.753127</td>\n",
       "      <td>0.005475</td>\n",
       "      <td>0.699685</td>\n",
       "      <td>0.005657</td>\n",
       "    </tr>\n",
       "    <tr>\n",
       "      <th>14</th>\n",
       "      <td>0.744315</td>\n",
       "      <td>0.006769</td>\n",
       "      <td>0.687992</td>\n",
       "      <td>0.005534</td>\n",
       "    </tr>\n",
       "    <tr>\n",
       "      <th>15</th>\n",
       "      <td>0.736271</td>\n",
       "      <td>0.007546</td>\n",
       "      <td>0.677656</td>\n",
       "      <td>0.005546</td>\n",
       "    </tr>\n",
       "    <tr>\n",
       "      <th>16</th>\n",
       "      <td>0.729706</td>\n",
       "      <td>0.007565</td>\n",
       "      <td>0.668283</td>\n",
       "      <td>0.006299</td>\n",
       "    </tr>\n",
       "    <tr>\n",
       "      <th>17</th>\n",
       "      <td>0.723912</td>\n",
       "      <td>0.008372</td>\n",
       "      <td>0.659948</td>\n",
       "      <td>0.005910</td>\n",
       "    </tr>\n",
       "    <tr>\n",
       "      <th>18</th>\n",
       "      <td>0.719305</td>\n",
       "      <td>0.008932</td>\n",
       "      <td>0.651508</td>\n",
       "      <td>0.005260</td>\n",
       "    </tr>\n",
       "    <tr>\n",
       "      <th>19</th>\n",
       "      <td>0.714339</td>\n",
       "      <td>0.009677</td>\n",
       "      <td>0.643463</td>\n",
       "      <td>0.005598</td>\n",
       "    </tr>\n",
       "    <tr>\n",
       "      <th>20</th>\n",
       "      <td>0.710676</td>\n",
       "      <td>0.009306</td>\n",
       "      <td>0.636250</td>\n",
       "      <td>0.005938</td>\n",
       "    </tr>\n",
       "    <tr>\n",
       "      <th>21</th>\n",
       "      <td>0.706659</td>\n",
       "      <td>0.009631</td>\n",
       "      <td>0.629349</td>\n",
       "      <td>0.005838</td>\n",
       "    </tr>\n",
       "    <tr>\n",
       "      <th>22</th>\n",
       "      <td>0.703855</td>\n",
       "      <td>0.009009</td>\n",
       "      <td>0.623356</td>\n",
       "      <td>0.005086</td>\n",
       "    </tr>\n",
       "    <tr>\n",
       "      <th>23</th>\n",
       "      <td>0.700821</td>\n",
       "      <td>0.009087</td>\n",
       "      <td>0.617040</td>\n",
       "      <td>0.005040</td>\n",
       "    </tr>\n",
       "    <tr>\n",
       "      <th>24</th>\n",
       "      <td>0.698618</td>\n",
       "      <td>0.009577</td>\n",
       "      <td>0.611152</td>\n",
       "      <td>0.005048</td>\n",
       "    </tr>\n",
       "    <tr>\n",
       "      <th>25</th>\n",
       "      <td>0.695733</td>\n",
       "      <td>0.009414</td>\n",
       "      <td>0.605726</td>\n",
       "      <td>0.004681</td>\n",
       "    </tr>\n",
       "    <tr>\n",
       "      <th>26</th>\n",
       "      <td>0.693190</td>\n",
       "      <td>0.009302</td>\n",
       "      <td>0.601265</td>\n",
       "      <td>0.004787</td>\n",
       "    </tr>\n",
       "    <tr>\n",
       "      <th>27</th>\n",
       "      <td>0.691741</td>\n",
       "      <td>0.009471</td>\n",
       "      <td>0.595745</td>\n",
       "      <td>0.005363</td>\n",
       "    </tr>\n",
       "    <tr>\n",
       "      <th>28</th>\n",
       "      <td>0.690350</td>\n",
       "      <td>0.009654</td>\n",
       "      <td>0.590835</td>\n",
       "      <td>0.005216</td>\n",
       "    </tr>\n",
       "    <tr>\n",
       "      <th>29</th>\n",
       "      <td>0.688258</td>\n",
       "      <td>0.009148</td>\n",
       "      <td>0.585672</td>\n",
       "      <td>0.004930</td>\n",
       "    </tr>\n",
       "    <tr>\n",
       "      <th>30</th>\n",
       "      <td>0.686957</td>\n",
       "      <td>0.010007</td>\n",
       "      <td>0.580775</td>\n",
       "      <td>0.005243</td>\n",
       "    </tr>\n",
       "    <tr>\n",
       "      <th>31</th>\n",
       "      <td>0.685896</td>\n",
       "      <td>0.009941</td>\n",
       "      <td>0.576074</td>\n",
       "      <td>0.005234</td>\n",
       "    </tr>\n",
       "    <tr>\n",
       "      <th>32</th>\n",
       "      <td>0.685111</td>\n",
       "      <td>0.010098</td>\n",
       "      <td>0.571862</td>\n",
       "      <td>0.004765</td>\n",
       "    </tr>\n",
       "    <tr>\n",
       "      <th>33</th>\n",
       "      <td>0.684296</td>\n",
       "      <td>0.010081</td>\n",
       "      <td>0.567834</td>\n",
       "      <td>0.004700</td>\n",
       "    </tr>\n",
       "    <tr>\n",
       "      <th>34</th>\n",
       "      <td>0.683657</td>\n",
       "      <td>0.010101</td>\n",
       "      <td>0.563377</td>\n",
       "      <td>0.005178</td>\n",
       "    </tr>\n",
       "    <tr>\n",
       "      <th>35</th>\n",
       "      <td>0.682369</td>\n",
       "      <td>0.010165</td>\n",
       "      <td>0.559611</td>\n",
       "      <td>0.005267</td>\n",
       "    </tr>\n",
       "    <tr>\n",
       "      <th>36</th>\n",
       "      <td>0.681843</td>\n",
       "      <td>0.010653</td>\n",
       "      <td>0.556245</td>\n",
       "      <td>0.005467</td>\n",
       "    </tr>\n",
       "    <tr>\n",
       "      <th>37</th>\n",
       "      <td>0.680945</td>\n",
       "      <td>0.010722</td>\n",
       "      <td>0.552620</td>\n",
       "      <td>0.005062</td>\n",
       "    </tr>\n",
       "    <tr>\n",
       "      <th>38</th>\n",
       "      <td>0.680453</td>\n",
       "      <td>0.011271</td>\n",
       "      <td>0.549463</td>\n",
       "      <td>0.005304</td>\n",
       "    </tr>\n",
       "    <tr>\n",
       "      <th>39</th>\n",
       "      <td>0.679451</td>\n",
       "      <td>0.011416</td>\n",
       "      <td>0.545713</td>\n",
       "      <td>0.005145</td>\n",
       "    </tr>\n",
       "    <tr>\n",
       "      <th>40</th>\n",
       "      <td>0.678648</td>\n",
       "      <td>0.011126</td>\n",
       "      <td>0.542402</td>\n",
       "      <td>0.004965</td>\n",
       "    </tr>\n",
       "    <tr>\n",
       "      <th>41</th>\n",
       "      <td>0.678018</td>\n",
       "      <td>0.010353</td>\n",
       "      <td>0.539433</td>\n",
       "      <td>0.005146</td>\n",
       "    </tr>\n",
       "    <tr>\n",
       "      <th>42</th>\n",
       "      <td>0.678054</td>\n",
       "      <td>0.010279</td>\n",
       "      <td>0.536096</td>\n",
       "      <td>0.005044</td>\n",
       "    </tr>\n",
       "    <tr>\n",
       "      <th>43</th>\n",
       "      <td>0.677467</td>\n",
       "      <td>0.010486</td>\n",
       "      <td>0.533017</td>\n",
       "      <td>0.004589</td>\n",
       "    </tr>\n",
       "    <tr>\n",
       "      <th>44</th>\n",
       "      <td>0.676906</td>\n",
       "      <td>0.010845</td>\n",
       "      <td>0.529398</td>\n",
       "      <td>0.004176</td>\n",
       "    </tr>\n",
       "    <tr>\n",
       "      <th>45</th>\n",
       "      <td>0.676109</td>\n",
       "      <td>0.011254</td>\n",
       "      <td>0.526400</td>\n",
       "      <td>0.004201</td>\n",
       "    </tr>\n",
       "    <tr>\n",
       "      <th>46</th>\n",
       "      <td>0.675727</td>\n",
       "      <td>0.011711</td>\n",
       "      <td>0.523594</td>\n",
       "      <td>0.003712</td>\n",
       "    </tr>\n",
       "    <tr>\n",
       "      <th>47</th>\n",
       "      <td>0.675806</td>\n",
       "      <td>0.011636</td>\n",
       "      <td>0.520845</td>\n",
       "      <td>0.004178</td>\n",
       "    </tr>\n",
       "    <tr>\n",
       "      <th>48</th>\n",
       "      <td>0.675639</td>\n",
       "      <td>0.011675</td>\n",
       "      <td>0.517959</td>\n",
       "      <td>0.004714</td>\n",
       "    </tr>\n",
       "    <tr>\n",
       "      <th>49</th>\n",
       "      <td>0.676195</td>\n",
       "      <td>0.011920</td>\n",
       "      <td>0.515455</td>\n",
       "      <td>0.004916</td>\n",
       "    </tr>\n",
       "    <tr>\n",
       "      <th>50</th>\n",
       "      <td>0.675775</td>\n",
       "      <td>0.012645</td>\n",
       "      <td>0.512994</td>\n",
       "      <td>0.004917</td>\n",
       "    </tr>\n",
       "    <tr>\n",
       "      <th>51</th>\n",
       "      <td>0.675585</td>\n",
       "      <td>0.012629</td>\n",
       "      <td>0.510655</td>\n",
       "      <td>0.005150</td>\n",
       "    </tr>\n",
       "  </tbody>\n",
       "</table>\n",
       "</div>"
      ],
      "text/plain": [
       "    test-mlogloss-mean  test-mlogloss-std  train-mlogloss-mean  \\\n",
       "0             1.044976           0.000995             1.040754   \n",
       "1             0.998699           0.000309             0.989946   \n",
       "2             0.959845           0.002384             0.946241   \n",
       "3             0.926258           0.003029             0.909181   \n",
       "4             0.896689           0.003618             0.875942   \n",
       "5             0.871659           0.002857             0.846693   \n",
       "6             0.849116           0.003621             0.820327   \n",
       "7             0.829898           0.003804             0.797416   \n",
       "8             0.812857           0.004311             0.776094   \n",
       "9             0.798061           0.004217             0.757562   \n",
       "10            0.784129           0.004794             0.741061   \n",
       "11            0.772312           0.005158             0.726489   \n",
       "12            0.762108           0.005846             0.712005   \n",
       "13            0.753127           0.005475             0.699685   \n",
       "14            0.744315           0.006769             0.687992   \n",
       "15            0.736271           0.007546             0.677656   \n",
       "16            0.729706           0.007565             0.668283   \n",
       "17            0.723912           0.008372             0.659948   \n",
       "18            0.719305           0.008932             0.651508   \n",
       "19            0.714339           0.009677             0.643463   \n",
       "20            0.710676           0.009306             0.636250   \n",
       "21            0.706659           0.009631             0.629349   \n",
       "22            0.703855           0.009009             0.623356   \n",
       "23            0.700821           0.009087             0.617040   \n",
       "24            0.698618           0.009577             0.611152   \n",
       "25            0.695733           0.009414             0.605726   \n",
       "26            0.693190           0.009302             0.601265   \n",
       "27            0.691741           0.009471             0.595745   \n",
       "28            0.690350           0.009654             0.590835   \n",
       "29            0.688258           0.009148             0.585672   \n",
       "30            0.686957           0.010007             0.580775   \n",
       "31            0.685896           0.009941             0.576074   \n",
       "32            0.685111           0.010098             0.571862   \n",
       "33            0.684296           0.010081             0.567834   \n",
       "34            0.683657           0.010101             0.563377   \n",
       "35            0.682369           0.010165             0.559611   \n",
       "36            0.681843           0.010653             0.556245   \n",
       "37            0.680945           0.010722             0.552620   \n",
       "38            0.680453           0.011271             0.549463   \n",
       "39            0.679451           0.011416             0.545713   \n",
       "40            0.678648           0.011126             0.542402   \n",
       "41            0.678018           0.010353             0.539433   \n",
       "42            0.678054           0.010279             0.536096   \n",
       "43            0.677467           0.010486             0.533017   \n",
       "44            0.676906           0.010845             0.529398   \n",
       "45            0.676109           0.011254             0.526400   \n",
       "46            0.675727           0.011711             0.523594   \n",
       "47            0.675806           0.011636             0.520845   \n",
       "48            0.675639           0.011675             0.517959   \n",
       "49            0.676195           0.011920             0.515455   \n",
       "50            0.675775           0.012645             0.512994   \n",
       "51            0.675585           0.012629             0.510655   \n",
       "\n",
       "    train-mlogloss-std  \n",
       "0             0.002278  \n",
       "1             0.003481  \n",
       "2             0.002680  \n",
       "3             0.002846  \n",
       "4             0.003126  \n",
       "5             0.003299  \n",
       "6             0.003999  \n",
       "7             0.004852  \n",
       "8             0.005212  \n",
       "9             0.006096  \n",
       "10            0.006227  \n",
       "11            0.005780  \n",
       "12            0.005508  \n",
       "13            0.005657  \n",
       "14            0.005534  \n",
       "15            0.005546  \n",
       "16            0.006299  \n",
       "17            0.005910  \n",
       "18            0.005260  \n",
       "19            0.005598  \n",
       "20            0.005938  \n",
       "21            0.005838  \n",
       "22            0.005086  \n",
       "23            0.005040  \n",
       "24            0.005048  \n",
       "25            0.004681  \n",
       "26            0.004787  \n",
       "27            0.005363  \n",
       "28            0.005216  \n",
       "29            0.004930  \n",
       "30            0.005243  \n",
       "31            0.005234  \n",
       "32            0.004765  \n",
       "33            0.004700  \n",
       "34            0.005178  \n",
       "35            0.005267  \n",
       "36            0.005467  \n",
       "37            0.005062  \n",
       "38            0.005304  \n",
       "39            0.005145  \n",
       "40            0.004965  \n",
       "41            0.005146  \n",
       "42            0.005044  \n",
       "43            0.004589  \n",
       "44            0.004176  \n",
       "45            0.004201  \n",
       "46            0.003712  \n",
       "47            0.004178  \n",
       "48            0.004714  \n",
       "49            0.004916  \n",
       "50            0.004917  \n",
       "51            0.005150  "
      ]
     },
     "execution_count": 12,
     "metadata": {},
     "output_type": "execute_result"
    }
   ],
   "source": [
    "cvresult"
   ]
  },
  {
   "cell_type": "code",
   "execution_count": 13,
   "metadata": {
    "ExecuteTime": {
     "end_time": "2018-02-22T02:39:09.277483Z",
     "start_time": "2018-02-22T02:39:09.090322Z"
    }
   },
   "outputs": [
    {
     "data": {
      "image/png": "[encoded data removed]",
      "text/plain": [
       "<matplotlib.figure.Figure at 0x1a97ec09c50>"
      ]
     },
     "metadata": {},
     "output_type": "display_data"
    }
   ],
   "source": [
    "test_means = cvresult['test-mlogloss-mean']\n",
    "test_stds = cvresult['test-mlogloss-std'] \n",
    "        \n",
    "train_means = cvresult['train-mlogloss-mean']\n",
    "train_stds = cvresult['train-mlogloss-std'] \n",
    "\n",
    "x_axis = cvresult.index\n",
    "        \n",
    "plt.errorbar(x_axis, test_means, yerr=test_stds ,label='Test')\n",
    "plt.errorbar(x_axis, train_means, yerr=train_stds ,label='Train')\n",
    "plt.title(\"XGBoost n_estimators vs Log Loss\")\n",
    "plt.xlabel( 'n_estimators' )\n",
    "plt.ylabel( 'Log Loss' )\n",
    "\n",
    "plt.show()"
   ]
  },
  {
   "cell_type": "markdown",
   "metadata": {},
   "source": [
    "## 初步确定'max_depth' and 'min_child_weight'"
   ]
  },
  {
   "cell_type": "code",
   "execution_count": 24,
   "metadata": {
    "ExecuteTime": {
     "end_time": "2018-02-22T02:52:41.190403Z",
     "start_time": "2018-02-22T02:52:41.181397Z"
    }
   },
   "outputs": [
    {
     "data": {
      "text/plain": [
       "{'max_depth': range(3, 10, 2), 'min_child_weight': range(1, 6, 2)}"
      ]
     },
     "execution_count": 24,
     "metadata": {},
     "output_type": "execute_result"
    }
   ],
   "source": [
    "kfold = StratifiedKFold(n_splits=5, shuffle=True, random_state=3)\n",
    "max_depth = range(3,10,2)\n",
    "min_child_weight = range(1,6,2)\n",
    "param_test2_1 = dict(max_depth=max_depth, min_child_weight=min_child_weight)\n",
    "param_test2_1"
   ]
  },
  {
   "cell_type": "code",
   "execution_count": 25,
   "metadata": {
    "ExecuteTime": {
     "end_time": "2018-02-22T02:52:41.937196Z",
     "start_time": "2018-02-22T02:52:41.929190Z"
    }
   },
   "outputs": [],
   "source": [
    "xgb2 = XGBClassifier(\n",
    "        learning_rate =0.1,\n",
    "        n_estimators=cvresult.shape[0],  #第一轮参数调整得到的n_estimators最优值\n",
    "        max_depth=5,\n",
    "        min_child_weight=1,\n",
    "        gamma=0,\n",
    "        subsample=0.3,\n",
    "        colsample_bytree=0.8,\n",
    "        colsample_bylevel = 0.7,\n",
    "        objective= 'multi:softprob',\n",
    "        seed=3)\n",
    "\n"
   ]
  },
  {
   "cell_type": "code",
   "execution_count": null,
   "metadata": {
    "ExecuteTime": {
     "start_time": "2018-02-22T02:52:42.838Z"
    },
    "scrolled": true
   },
   "outputs": [],
   "source": [
    "# 暴力搜索\n",
    "gsearch2 = GridSearchCV(xgb2\n",
    "                        , param_grid = param_test2_1\n",
    "                        , scoring='neg_log_loss'\n",
    "                        , n_jobs=-1\n",
    "                        , cv=kfold)\n",
    "\n",
    "gsearch2.fit(X_train , y_train)\n",
    "\n",
    "gsearch2.grid_scores_"
   ]
  },
  {
   "cell_type": "code",
   "execution_count": null,
   "metadata": {
    "ExecuteTime": {
     "start_time": "2018-02-22T02:52:51.849Z"
    }
   },
   "outputs": [],
   "source": [
    "gsearch2.best_params_, gsearch2.best_score_"
   ]
  },
  {
   "cell_type": "code",
   "execution_count": 22,
   "metadata": {
    "ExecuteTime": {
     "end_time": "2018-02-22T02:51:43.488081Z",
     "start_time": "2018-02-22T02:51:43.398024Z"
    }
   },
   "outputs": [
    {
     "ename": "AttributeError",
     "evalue": "'GridSearchCV' object has no attribute 'best_params_'",
     "output_type": "error",
     "traceback": [
      "\u001b[1;31m---------------------------------------------------------------------------\u001b[0m",
      "\u001b[1;31mAttributeError\u001b[0m                            Traceback (most recent call last)",
      "\u001b[1;32m<ipython-input-22-699153e3ac8b>\u001b[0m in \u001b[0;36m<module>\u001b[1;34m()\u001b[0m\n\u001b[1;32m----> 1\u001b[1;33m \u001b[0mgsearch2\u001b[0m\u001b[1;33m.\u001b[0m\u001b[0mbest_params_\u001b[0m\u001b[1;33m[\u001b[0m\u001b[1;34m\"max_depth\"\u001b[0m\u001b[1;33m]\u001b[0m\u001b[1;33m\u001b[0m\u001b[0m\n\u001b[0m",
      "\u001b[1;31mAttributeError\u001b[0m: 'GridSearchCV' object has no attribute 'best_params_'"
     ]
    }
   ],
   "source": [
    "gsearch2.best_params_[\"max_depth\"]"
   ]
  },
  {
   "cell_type": "markdown",
   "metadata": {},
   "source": [
    "## 再次确定'max_depth' and 'min_child_weight'"
   ]
  },
  {
   "cell_type": "code",
   "execution_count": 19,
   "metadata": {
    "ExecuteTime": {
     "end_time": "2018-02-22T02:42:12.669084Z",
     "start_time": "2018-02-22T02:42:12.651075Z"
    }
   },
   "outputs": [
    {
     "data": {
      "text/plain": [
       "{'max_depth': [2, 3, 4], 'min_child_weight': [1, 2]}"
      ]
     },
     "execution_count": 19,
     "metadata": {},
     "output_type": "execute_result"
    }
   ],
   "source": [
    "kfold = StratifiedKFold(n_splits=5, shuffle=True, random_state=3)\n",
    "max_depth = [2,3,4]\n",
    "min_child_weight = [1,2]\n",
    "param_test3 = dict(max_depth=max_depth, min_child_weight=min_child_weight)\n",
    "param_test3"
   ]
  },
  {
   "cell_type": "code",
   "execution_count": 20,
   "metadata": {
    "ExecuteTime": {
     "end_time": "2018-02-22T02:42:12.684094Z",
     "start_time": "2018-02-22T02:42:12.672089Z"
    }
   },
   "outputs": [],
   "source": [
    "xgb2 = XGBClassifier(\n",
    "        learning_rate =0.1,\n",
    "        n_estimators=cvresult.shape[0],  #第一轮参数调整得到的n_estimators最优值\n",
    "        max_depth=5,\n",
    "        min_child_weight=1,\n",
    "        gamma=0,\n",
    "        subsample=0.3,\n",
    "        colsample_bytree=0.8,\n",
    "        colsample_bylevel = 0.7,\n",
    "        objective= 'multi:softprob',\n",
    "        seed=3)\n",
    "\n"
   ]
  },
  {
   "cell_type": "code",
   "execution_count": null,
   "metadata": {
    "ExecuteTime": {
     "end_time": "2018-02-22T02:42:55.374451Z",
     "start_time": "2018-02-22T02:40:29.343Z"
    }
   },
   "outputs": [],
   "source": [
    "\n",
    "gsearch2 = GridSearchCV(xgb2, param_grid = param_test3, scoring='neg_log_loss',n_jobs=-1, cv=kfold)\n",
    "gsearch2.fit(X_train , y_train)\n",
    "\n",
    "gsearch2.grid_scores_, "
   ]
  },
  {
   "cell_type": "code",
   "execution_count": null,
   "metadata": {
    "ExecuteTime": {
     "end_time": "2018-02-22T02:42:55.376454Z",
     "start_time": "2018-02-22T02:40:30.064Z"
    }
   },
   "outputs": [],
   "source": [
    "gsearch2.best_params_,     gsearch2.best_score_"
   ]
  },
  {
   "cell_type": "markdown",
   "metadata": {},
   "source": [
    "## 再次确定n_estimators"
   ]
  },
  {
   "cell_type": "code",
   "execution_count": 22,
   "metadata": {
    "ExecuteTime": {
     "end_time": "2018-02-19T02:01:01.518921Z",
     "start_time": "2018-02-19T02:01:01.511917Z"
    }
   },
   "outputs": [],
   "source": [
    "xgb4 = XGBClassifier(\n",
    "        learning_rate =0.1,\n",
    "        n_estimators=cvresult.shape[0],  #数值大没关系，cv会自动返回合适的n_estimators\n",
    "        max_depth=4,\n",
    "        min_child_weight=2,\n",
    "        gamma=0,\n",
    "        subsample=0.3,\n",
    "        colsample_bytree=0.8,\n",
    "        colsample_bylevel=0.7,\n",
    "        objective= 'multi:softprob',\n",
    "        seed=33)"
   ]
  },
  {
   "cell_type": "code",
   "execution_count": 23,
   "metadata": {
    "ExecuteTime": {
     "end_time": "2018-02-19T02:01:05.719759Z",
     "start_time": "2018-02-19T02:01:05.674730Z"
    },
    "cell_style": "center"
   },
   "outputs": [],
   "source": [
    "xgb_param = xgb4.get_xgb_params()\n",
    "xgb_param['num_class'] = 3\n",
    "xgtrain = xgb.DMatrix(X_train, label = y_train)\n",
    "folds=StratifiedKFold(n_splits=5, shuffle=True, random_state=33)\n"
   ]
  },
  {
   "cell_type": "code",
   "execution_count": 26,
   "metadata": {
    "ExecuteTime": {
     "end_time": "2018-02-19T02:03:27.748769Z",
     "start_time": "2018-02-19T02:03:16.740183Z"
    }
   },
   "outputs": [
    {
     "name": "stdout",
     "output_type": "stream",
     "text": [
      "[0]\ttrain-mlogloss:1.04075\ttest-mlogloss:1.04389\n",
      "[10]\ttrain-mlogloss:0.74838\ttest-mlogloss:0.77803\n",
      "[20]\ttrain-mlogloss:0.646387\ttest-mlogloss:0.69916\n",
      "[30]\ttrain-mlogloss:0.598858\ttest-mlogloss:0.674132\n",
      "[40]\ttrain-mlogloss:0.568212\ttest-mlogloss:0.663711\n",
      "[50]\ttrain-mlogloss:0.541969\ttest-mlogloss:0.660542\n",
      "[60]\ttrain-mlogloss:0.521901\ttest-mlogloss:0.658911\n",
      "[70]\ttrain-mlogloss:0.503319\ttest-mlogloss:0.659043\n",
      "[80]\ttrain-mlogloss:0.485652\ttest-mlogloss:0.659818\n"
     ]
    }
   ],
   "source": [
    "cvresult2 = xgb.cv(xgb_param\n",
    "                  , xgtrain\n",
    "                  , num_boost_round=1000\n",
    "                  , folds = folds\n",
    "                  , show_stdv=False \n",
    "                  , verbose_eval=10\n",
    "                  , metrics='mlogloss'\n",
    "                  , early_stopping_rounds=10)\n",
    "\n"
   ]
  },
  {
   "cell_type": "code",
   "execution_count": 27,
   "metadata": {
    "ExecuteTime": {
     "end_time": "2018-02-19T02:03:27.777791Z",
     "start_time": "2018-02-19T02:03:27.750771Z"
    },
    "scrolled": true
   },
   "outputs": [
    {
     "data": {
      "text/html": [
       "<div>\n",
       "<style>\n",
       "    .dataframe thead tr:only-child th {\n",
       "        text-align: right;\n",
       "    }\n",
       "\n",
       "    .dataframe thead th {\n",
       "        text-align: left;\n",
       "    }\n",
       "\n",
       "    .dataframe tbody tr th {\n",
       "        vertical-align: top;\n",
       "    }\n",
       "</style>\n",
       "<table border=\"1\" class=\"dataframe\">\n",
       "  <thead>\n",
       "    <tr style=\"text-align: right;\">\n",
       "      <th></th>\n",
       "      <th>test-mlogloss-mean</th>\n",
       "      <th>test-mlogloss-std</th>\n",
       "      <th>train-mlogloss-mean</th>\n",
       "      <th>train-mlogloss-std</th>\n",
       "    </tr>\n",
       "  </thead>\n",
       "  <tbody>\n",
       "    <tr>\n",
       "      <th>0</th>\n",
       "      <td>1.043887</td>\n",
       "      <td>0.001500</td>\n",
       "      <td>1.040752</td>\n",
       "      <td>0.000528</td>\n",
       "    </tr>\n",
       "    <tr>\n",
       "      <th>1</th>\n",
       "      <td>0.997208</td>\n",
       "      <td>0.000970</td>\n",
       "      <td>0.991403</td>\n",
       "      <td>0.000917</td>\n",
       "    </tr>\n",
       "    <tr>\n",
       "      <th>2</th>\n",
       "      <td>0.956573</td>\n",
       "      <td>0.001391</td>\n",
       "      <td>0.947932</td>\n",
       "      <td>0.001916</td>\n",
       "    </tr>\n",
       "    <tr>\n",
       "      <th>3</th>\n",
       "      <td>0.921864</td>\n",
       "      <td>0.001389</td>\n",
       "      <td>0.909891</td>\n",
       "      <td>0.002267</td>\n",
       "    </tr>\n",
       "    <tr>\n",
       "      <th>4</th>\n",
       "      <td>0.891830</td>\n",
       "      <td>0.001723</td>\n",
       "      <td>0.876813</td>\n",
       "      <td>0.003186</td>\n",
       "    </tr>\n",
       "    <tr>\n",
       "      <th>5</th>\n",
       "      <td>0.865897</td>\n",
       "      <td>0.002322</td>\n",
       "      <td>0.847793</td>\n",
       "      <td>0.003731</td>\n",
       "    </tr>\n",
       "    <tr>\n",
       "      <th>6</th>\n",
       "      <td>0.843566</td>\n",
       "      <td>0.003515</td>\n",
       "      <td>0.823008</td>\n",
       "      <td>0.003020</td>\n",
       "    </tr>\n",
       "    <tr>\n",
       "      <th>7</th>\n",
       "      <td>0.823830</td>\n",
       "      <td>0.004041</td>\n",
       "      <td>0.800910</td>\n",
       "      <td>0.002935</td>\n",
       "    </tr>\n",
       "    <tr>\n",
       "      <th>8</th>\n",
       "      <td>0.805990</td>\n",
       "      <td>0.004416</td>\n",
       "      <td>0.781293</td>\n",
       "      <td>0.003041</td>\n",
       "    </tr>\n",
       "    <tr>\n",
       "      <th>9</th>\n",
       "      <td>0.791117</td>\n",
       "      <td>0.004052</td>\n",
       "      <td>0.764079</td>\n",
       "      <td>0.004009</td>\n",
       "    </tr>\n",
       "    <tr>\n",
       "      <th>10</th>\n",
       "      <td>0.778030</td>\n",
       "      <td>0.004691</td>\n",
       "      <td>0.748380</td>\n",
       "      <td>0.004001</td>\n",
       "    </tr>\n",
       "    <tr>\n",
       "      <th>11</th>\n",
       "      <td>0.765444</td>\n",
       "      <td>0.004680</td>\n",
       "      <td>0.734017</td>\n",
       "      <td>0.003748</td>\n",
       "    </tr>\n",
       "    <tr>\n",
       "      <th>12</th>\n",
       "      <td>0.754230</td>\n",
       "      <td>0.005298</td>\n",
       "      <td>0.720039</td>\n",
       "      <td>0.004197</td>\n",
       "    </tr>\n",
       "    <tr>\n",
       "      <th>13</th>\n",
       "      <td>0.744825</td>\n",
       "      <td>0.005863</td>\n",
       "      <td>0.708189</td>\n",
       "      <td>0.004726</td>\n",
       "    </tr>\n",
       "    <tr>\n",
       "      <th>14</th>\n",
       "      <td>0.735856</td>\n",
       "      <td>0.005392</td>\n",
       "      <td>0.696736</td>\n",
       "      <td>0.005141</td>\n",
       "    </tr>\n",
       "    <tr>\n",
       "      <th>15</th>\n",
       "      <td>0.728401</td>\n",
       "      <td>0.005336</td>\n",
       "      <td>0.687056</td>\n",
       "      <td>0.005573</td>\n",
       "    </tr>\n",
       "    <tr>\n",
       "      <th>16</th>\n",
       "      <td>0.721337</td>\n",
       "      <td>0.005398</td>\n",
       "      <td>0.677407</td>\n",
       "      <td>0.005557</td>\n",
       "    </tr>\n",
       "    <tr>\n",
       "      <th>17</th>\n",
       "      <td>0.714905</td>\n",
       "      <td>0.005797</td>\n",
       "      <td>0.669081</td>\n",
       "      <td>0.005627</td>\n",
       "    </tr>\n",
       "    <tr>\n",
       "      <th>18</th>\n",
       "      <td>0.709296</td>\n",
       "      <td>0.006578</td>\n",
       "      <td>0.660837</td>\n",
       "      <td>0.006324</td>\n",
       "    </tr>\n",
       "    <tr>\n",
       "      <th>19</th>\n",
       "      <td>0.704106</td>\n",
       "      <td>0.006909</td>\n",
       "      <td>0.653655</td>\n",
       "      <td>0.005724</td>\n",
       "    </tr>\n",
       "    <tr>\n",
       "      <th>20</th>\n",
       "      <td>0.699160</td>\n",
       "      <td>0.007082</td>\n",
       "      <td>0.646387</td>\n",
       "      <td>0.005957</td>\n",
       "    </tr>\n",
       "    <tr>\n",
       "      <th>21</th>\n",
       "      <td>0.695240</td>\n",
       "      <td>0.007223</td>\n",
       "      <td>0.640271</td>\n",
       "      <td>0.006090</td>\n",
       "    </tr>\n",
       "    <tr>\n",
       "      <th>22</th>\n",
       "      <td>0.691936</td>\n",
       "      <td>0.008104</td>\n",
       "      <td>0.634836</td>\n",
       "      <td>0.006245</td>\n",
       "    </tr>\n",
       "    <tr>\n",
       "      <th>23</th>\n",
       "      <td>0.688907</td>\n",
       "      <td>0.008188</td>\n",
       "      <td>0.629515</td>\n",
       "      <td>0.006187</td>\n",
       "    </tr>\n",
       "    <tr>\n",
       "      <th>24</th>\n",
       "      <td>0.686681</td>\n",
       "      <td>0.008178</td>\n",
       "      <td>0.623948</td>\n",
       "      <td>0.006199</td>\n",
       "    </tr>\n",
       "    <tr>\n",
       "      <th>25</th>\n",
       "      <td>0.684141</td>\n",
       "      <td>0.008055</td>\n",
       "      <td>0.619493</td>\n",
       "      <td>0.006645</td>\n",
       "    </tr>\n",
       "    <tr>\n",
       "      <th>26</th>\n",
       "      <td>0.682165</td>\n",
       "      <td>0.008718</td>\n",
       "      <td>0.615260</td>\n",
       "      <td>0.006938</td>\n",
       "    </tr>\n",
       "    <tr>\n",
       "      <th>27</th>\n",
       "      <td>0.679655</td>\n",
       "      <td>0.008989</td>\n",
       "      <td>0.610775</td>\n",
       "      <td>0.007136</td>\n",
       "    </tr>\n",
       "    <tr>\n",
       "      <th>28</th>\n",
       "      <td>0.677507</td>\n",
       "      <td>0.009001</td>\n",
       "      <td>0.606815</td>\n",
       "      <td>0.006683</td>\n",
       "    </tr>\n",
       "    <tr>\n",
       "      <th>29</th>\n",
       "      <td>0.675502</td>\n",
       "      <td>0.008639</td>\n",
       "      <td>0.602862</td>\n",
       "      <td>0.006830</td>\n",
       "    </tr>\n",
       "    <tr>\n",
       "      <th>...</th>\n",
       "      <td>...</td>\n",
       "      <td>...</td>\n",
       "      <td>...</td>\n",
       "      <td>...</td>\n",
       "    </tr>\n",
       "    <tr>\n",
       "      <th>42</th>\n",
       "      <td>0.662366</td>\n",
       "      <td>0.012347</td>\n",
       "      <td>0.561230</td>\n",
       "      <td>0.008407</td>\n",
       "    </tr>\n",
       "    <tr>\n",
       "      <th>43</th>\n",
       "      <td>0.661784</td>\n",
       "      <td>0.012306</td>\n",
       "      <td>0.558100</td>\n",
       "      <td>0.008180</td>\n",
       "    </tr>\n",
       "    <tr>\n",
       "      <th>44</th>\n",
       "      <td>0.661345</td>\n",
       "      <td>0.012278</td>\n",
       "      <td>0.555539</td>\n",
       "      <td>0.008277</td>\n",
       "    </tr>\n",
       "    <tr>\n",
       "      <th>45</th>\n",
       "      <td>0.661062</td>\n",
       "      <td>0.011955</td>\n",
       "      <td>0.552851</td>\n",
       "      <td>0.008220</td>\n",
       "    </tr>\n",
       "    <tr>\n",
       "      <th>46</th>\n",
       "      <td>0.660734</td>\n",
       "      <td>0.012250</td>\n",
       "      <td>0.550321</td>\n",
       "      <td>0.008268</td>\n",
       "    </tr>\n",
       "    <tr>\n",
       "      <th>47</th>\n",
       "      <td>0.660577</td>\n",
       "      <td>0.012472</td>\n",
       "      <td>0.548458</td>\n",
       "      <td>0.008278</td>\n",
       "    </tr>\n",
       "    <tr>\n",
       "      <th>48</th>\n",
       "      <td>0.660467</td>\n",
       "      <td>0.012486</td>\n",
       "      <td>0.546300</td>\n",
       "      <td>0.008443</td>\n",
       "    </tr>\n",
       "    <tr>\n",
       "      <th>49</th>\n",
       "      <td>0.660315</td>\n",
       "      <td>0.012687</td>\n",
       "      <td>0.544089</td>\n",
       "      <td>0.008402</td>\n",
       "    </tr>\n",
       "    <tr>\n",
       "      <th>50</th>\n",
       "      <td>0.660542</td>\n",
       "      <td>0.012884</td>\n",
       "      <td>0.541969</td>\n",
       "      <td>0.008336</td>\n",
       "    </tr>\n",
       "    <tr>\n",
       "      <th>51</th>\n",
       "      <td>0.660215</td>\n",
       "      <td>0.012907</td>\n",
       "      <td>0.539760</td>\n",
       "      <td>0.008061</td>\n",
       "    </tr>\n",
       "    <tr>\n",
       "      <th>52</th>\n",
       "      <td>0.659783</td>\n",
       "      <td>0.013193</td>\n",
       "      <td>0.537581</td>\n",
       "      <td>0.007899</td>\n",
       "    </tr>\n",
       "    <tr>\n",
       "      <th>53</th>\n",
       "      <td>0.659961</td>\n",
       "      <td>0.013137</td>\n",
       "      <td>0.535647</td>\n",
       "      <td>0.008022</td>\n",
       "    </tr>\n",
       "    <tr>\n",
       "      <th>54</th>\n",
       "      <td>0.659639</td>\n",
       "      <td>0.013128</td>\n",
       "      <td>0.533903</td>\n",
       "      <td>0.008064</td>\n",
       "    </tr>\n",
       "    <tr>\n",
       "      <th>55</th>\n",
       "      <td>0.659507</td>\n",
       "      <td>0.012862</td>\n",
       "      <td>0.531958</td>\n",
       "      <td>0.007848</td>\n",
       "    </tr>\n",
       "    <tr>\n",
       "      <th>56</th>\n",
       "      <td>0.659719</td>\n",
       "      <td>0.012688</td>\n",
       "      <td>0.530166</td>\n",
       "      <td>0.007651</td>\n",
       "    </tr>\n",
       "    <tr>\n",
       "      <th>57</th>\n",
       "      <td>0.659112</td>\n",
       "      <td>0.012951</td>\n",
       "      <td>0.528063</td>\n",
       "      <td>0.007837</td>\n",
       "    </tr>\n",
       "    <tr>\n",
       "      <th>58</th>\n",
       "      <td>0.659326</td>\n",
       "      <td>0.013055</td>\n",
       "      <td>0.526003</td>\n",
       "      <td>0.007885</td>\n",
       "    </tr>\n",
       "    <tr>\n",
       "      <th>59</th>\n",
       "      <td>0.659100</td>\n",
       "      <td>0.013718</td>\n",
       "      <td>0.524150</td>\n",
       "      <td>0.007723</td>\n",
       "    </tr>\n",
       "    <tr>\n",
       "      <th>60</th>\n",
       "      <td>0.658911</td>\n",
       "      <td>0.013864</td>\n",
       "      <td>0.521901</td>\n",
       "      <td>0.007593</td>\n",
       "    </tr>\n",
       "    <tr>\n",
       "      <th>61</th>\n",
       "      <td>0.658665</td>\n",
       "      <td>0.013879</td>\n",
       "      <td>0.519993</td>\n",
       "      <td>0.007568</td>\n",
       "    </tr>\n",
       "    <tr>\n",
       "      <th>62</th>\n",
       "      <td>0.659014</td>\n",
       "      <td>0.014201</td>\n",
       "      <td>0.518150</td>\n",
       "      <td>0.007231</td>\n",
       "    </tr>\n",
       "    <tr>\n",
       "      <th>63</th>\n",
       "      <td>0.658926</td>\n",
       "      <td>0.014083</td>\n",
       "      <td>0.516301</td>\n",
       "      <td>0.007101</td>\n",
       "    </tr>\n",
       "    <tr>\n",
       "      <th>64</th>\n",
       "      <td>0.658846</td>\n",
       "      <td>0.013670</td>\n",
       "      <td>0.514621</td>\n",
       "      <td>0.006956</td>\n",
       "    </tr>\n",
       "    <tr>\n",
       "      <th>65</th>\n",
       "      <td>0.659179</td>\n",
       "      <td>0.013728</td>\n",
       "      <td>0.512837</td>\n",
       "      <td>0.006754</td>\n",
       "    </tr>\n",
       "    <tr>\n",
       "      <th>66</th>\n",
       "      <td>0.658878</td>\n",
       "      <td>0.013815</td>\n",
       "      <td>0.511161</td>\n",
       "      <td>0.006533</td>\n",
       "    </tr>\n",
       "    <tr>\n",
       "      <th>67</th>\n",
       "      <td>0.659293</td>\n",
       "      <td>0.013835</td>\n",
       "      <td>0.509163</td>\n",
       "      <td>0.006167</td>\n",
       "    </tr>\n",
       "    <tr>\n",
       "      <th>68</th>\n",
       "      <td>0.659027</td>\n",
       "      <td>0.013920</td>\n",
       "      <td>0.507104</td>\n",
       "      <td>0.006361</td>\n",
       "    </tr>\n",
       "    <tr>\n",
       "      <th>69</th>\n",
       "      <td>0.658686</td>\n",
       "      <td>0.014191</td>\n",
       "      <td>0.505215</td>\n",
       "      <td>0.006830</td>\n",
       "    </tr>\n",
       "    <tr>\n",
       "      <th>70</th>\n",
       "      <td>0.659043</td>\n",
       "      <td>0.014270</td>\n",
       "      <td>0.503319</td>\n",
       "      <td>0.006626</td>\n",
       "    </tr>\n",
       "    <tr>\n",
       "      <th>71</th>\n",
       "      <td>0.658446</td>\n",
       "      <td>0.014168</td>\n",
       "      <td>0.501296</td>\n",
       "      <td>0.006479</td>\n",
       "    </tr>\n",
       "  </tbody>\n",
       "</table>\n",
       "<p>72 rows × 4 columns</p>\n",
       "</div>"
      ],
      "text/plain": [
       "    test-mlogloss-mean  test-mlogloss-std  train-mlogloss-mean  \\\n",
       "0             1.043887           0.001500             1.040752   \n",
       "1             0.997208           0.000970             0.991403   \n",
       "2             0.956573           0.001391             0.947932   \n",
       "3             0.921864           0.001389             0.909891   \n",
       "4             0.891830           0.001723             0.876813   \n",
       "5             0.865897           0.002322             0.847793   \n",
       "6             0.843566           0.003515             0.823008   \n",
       "7             0.823830           0.004041             0.800910   \n",
       "8             0.805990           0.004416             0.781293   \n",
       "9             0.791117           0.004052             0.764079   \n",
       "10            0.778030           0.004691             0.748380   \n",
       "11            0.765444           0.004680             0.734017   \n",
       "12            0.754230           0.005298             0.720039   \n",
       "13            0.744825           0.005863             0.708189   \n",
       "14            0.735856           0.005392             0.696736   \n",
       "15            0.728401           0.005336             0.687056   \n",
       "16            0.721337           0.005398             0.677407   \n",
       "17            0.714905           0.005797             0.669081   \n",
       "18            0.709296           0.006578             0.660837   \n",
       "19            0.704106           0.006909             0.653655   \n",
       "20            0.699160           0.007082             0.646387   \n",
       "21            0.695240           0.007223             0.640271   \n",
       "22            0.691936           0.008104             0.634836   \n",
       "23            0.688907           0.008188             0.629515   \n",
       "24            0.686681           0.008178             0.623948   \n",
       "25            0.684141           0.008055             0.619493   \n",
       "26            0.682165           0.008718             0.615260   \n",
       "27            0.679655           0.008989             0.610775   \n",
       "28            0.677507           0.009001             0.606815   \n",
       "29            0.675502           0.008639             0.602862   \n",
       "..                 ...                ...                  ...   \n",
       "42            0.662366           0.012347             0.561230   \n",
       "43            0.661784           0.012306             0.558100   \n",
       "44            0.661345           0.012278             0.555539   \n",
       "45            0.661062           0.011955             0.552851   \n",
       "46            0.660734           0.012250             0.550321   \n",
       "47            0.660577           0.012472             0.548458   \n",
       "48            0.660467           0.012486             0.546300   \n",
       "49            0.660315           0.012687             0.544089   \n",
       "50            0.660542           0.012884             0.541969   \n",
       "51            0.660215           0.012907             0.539760   \n",
       "52            0.659783           0.013193             0.537581   \n",
       "53            0.659961           0.013137             0.535647   \n",
       "54            0.659639           0.013128             0.533903   \n",
       "55            0.659507           0.012862             0.531958   \n",
       "56            0.659719           0.012688             0.530166   \n",
       "57            0.659112           0.012951             0.528063   \n",
       "58            0.659326           0.013055             0.526003   \n",
       "59            0.659100           0.013718             0.524150   \n",
       "60            0.658911           0.013864             0.521901   \n",
       "61            0.658665           0.013879             0.519993   \n",
       "62            0.659014           0.014201             0.518150   \n",
       "63            0.658926           0.014083             0.516301   \n",
       "64            0.658846           0.013670             0.514621   \n",
       "65            0.659179           0.013728             0.512837   \n",
       "66            0.658878           0.013815             0.511161   \n",
       "67            0.659293           0.013835             0.509163   \n",
       "68            0.659027           0.013920             0.507104   \n",
       "69            0.658686           0.014191             0.505215   \n",
       "70            0.659043           0.014270             0.503319   \n",
       "71            0.658446           0.014168             0.501296   \n",
       "\n",
       "    train-mlogloss-std  \n",
       "0             0.000528  \n",
       "1             0.000917  \n",
       "2             0.001916  \n",
       "3             0.002267  \n",
       "4             0.003186  \n",
       "5             0.003731  \n",
       "6             0.003020  \n",
       "7             0.002935  \n",
       "8             0.003041  \n",
       "9             0.004009  \n",
       "10            0.004001  \n",
       "11            0.003748  \n",
       "12            0.004197  \n",
       "13            0.004726  \n",
       "14            0.005141  \n",
       "15            0.005573  \n",
       "16            0.005557  \n",
       "17            0.005627  \n",
       "18            0.006324  \n",
       "19            0.005724  \n",
       "20            0.005957  \n",
       "21            0.006090  \n",
       "22            0.006245  \n",
       "23            0.006187  \n",
       "24            0.006199  \n",
       "25            0.006645  \n",
       "26            0.006938  \n",
       "27            0.007136  \n",
       "28            0.006683  \n",
       "29            0.006830  \n",
       "..                 ...  \n",
       "42            0.008407  \n",
       "43            0.008180  \n",
       "44            0.008277  \n",
       "45            0.008220  \n",
       "46            0.008268  \n",
       "47            0.008278  \n",
       "48            0.008443  \n",
       "49            0.008402  \n",
       "50            0.008336  \n",
       "51            0.008061  \n",
       "52            0.007899  \n",
       "53            0.008022  \n",
       "54            0.008064  \n",
       "55            0.007848  \n",
       "56            0.007651  \n",
       "57            0.007837  \n",
       "58            0.007885  \n",
       "59            0.007723  \n",
       "60            0.007593  \n",
       "61            0.007568  \n",
       "62            0.007231  \n",
       "63            0.007101  \n",
       "64            0.006956  \n",
       "65            0.006754  \n",
       "66            0.006533  \n",
       "67            0.006167  \n",
       "68            0.006361  \n",
       "69            0.006830  \n",
       "70            0.006626  \n",
       "71            0.006479  \n",
       "\n",
       "[72 rows x 4 columns]"
      ]
     },
     "execution_count": 27,
     "metadata": {},
     "output_type": "execute_result"
    }
   ],
   "source": [
    "cvresult2"
   ]
  },
  {
   "cell_type": "markdown",
   "metadata": {},
   "source": [
    "## 行列采样"
   ]
  },
  {
   "cell_type": "code",
   "execution_count": 31,
   "metadata": {
    "ExecuteTime": {
     "end_time": "2018-02-19T02:08:38.872287Z",
     "start_time": "2018-02-19T02:08:38.863281Z"
    }
   },
   "outputs": [
    {
     "data": {
      "text/plain": [
       "{'colsample_bytree': [0.6, 0.7, 0.8, 0.9],\n",
       " 'subsample': [0.3, 0.4, 0.5, 0.6, 0.7, 0.8]}"
      ]
     },
     "execution_count": 31,
     "metadata": {},
     "output_type": "execute_result"
    }
   ],
   "source": [
    "subsample = [i/10.0 for i in range(3,9)]\n",
    "colsample_bytree = [i/10.0 for i in range(6,10)]\n",
    "param_test3 = dict(subsample=subsample, colsample_bytree=colsample_bytree)\n",
    "param_test3"
   ]
  },
  {
   "cell_type": "code",
   "execution_count": 32,
   "metadata": {
    "ExecuteTime": {
     "end_time": "2018-02-19T02:08:39.328879Z",
     "start_time": "2018-02-19T02:08:39.319874Z"
    }
   },
   "outputs": [],
   "source": [
    "xgb5 = XGBClassifier(\n",
    "        learning_rate =0.1,\n",
    "        n_estimators=cvresult2.shape[0],  #第一轮参数调整得到的n_estimators最优值\n",
    "        max_depth=4,\n",
    "        min_child_weight=2,\n",
    "        gamma=0,\n",
    "        subsample=0.3,\n",
    "        colsample_bytree=0.8,\n",
    "        colsample_bylevel = 0.7,\n",
    "        objective= 'multi:softprob',\n",
    "        seed=3)"
   ]
  },
  {
   "cell_type": "code",
   "execution_count": 33,
   "metadata": {
    "ExecuteTime": {
     "end_time": "2018-02-19T02:11:18.983250Z",
     "start_time": "2018-02-19T02:08:40.023259Z"
    },
    "scrolled": true
   },
   "outputs": [
    {
     "name": "stderr",
     "output_type": "stream",
     "text": [
      "C:\\ProgramData\\Anaconda3\\lib\\site-packages\\sklearn\\model_selection\\_search.py:761: DeprecationWarning: The grid_scores_ attribute was deprecated in version 0.18 in favor of the more elaborate cv_results_ attribute. The grid_scores_ attribute will not be available from 0.20\n",
      "  DeprecationWarning)\n"
     ]
    },
    {
     "data": {
      "text/plain": [
       "([mean: -0.65098, std: 0.01334, params: {'colsample_bytree': 0.6, 'subsample': 0.3},\n",
       "  mean: -0.64479, std: 0.01232, params: {'colsample_bytree': 0.6, 'subsample': 0.4},\n",
       "  mean: -0.64212, std: 0.01207, params: {'colsample_bytree': 0.6, 'subsample': 0.5},\n",
       "  mean: -0.64129, std: 0.01319, params: {'colsample_bytree': 0.6, 'subsample': 0.6},\n",
       "  mean: -0.64068, std: 0.01165, params: {'colsample_bytree': 0.6, 'subsample': 0.7},\n",
       "  mean: -0.63996, std: 0.01326, params: {'colsample_bytree': 0.6, 'subsample': 0.8},\n",
       "  mean: -0.64681, std: 0.00963, params: {'colsample_bytree': 0.7, 'subsample': 0.3},\n",
       "  mean: -0.64287, std: 0.01121, params: {'colsample_bytree': 0.7, 'subsample': 0.4},\n",
       "  mean: -0.64327, std: 0.01327, params: {'colsample_bytree': 0.7, 'subsample': 0.5},\n",
       "  mean: -0.63956, std: 0.01108, params: {'colsample_bytree': 0.7, 'subsample': 0.6},\n",
       "  mean: -0.64035, std: 0.01151, params: {'colsample_bytree': 0.7, 'subsample': 0.7},\n",
       "  mean: -0.63893, std: 0.01172, params: {'colsample_bytree': 0.7, 'subsample': 0.8},\n",
       "  mean: -0.64511, std: 0.01478, params: {'colsample_bytree': 0.8, 'subsample': 0.3},\n",
       "  mean: -0.64486, std: 0.01504, params: {'colsample_bytree': 0.8, 'subsample': 0.4},\n",
       "  mean: -0.64309, std: 0.01224, params: {'colsample_bytree': 0.8, 'subsample': 0.5},\n",
       "  mean: -0.63924, std: 0.01302, params: {'colsample_bytree': 0.8, 'subsample': 0.6},\n",
       "  mean: -0.64144, std: 0.01345, params: {'colsample_bytree': 0.8, 'subsample': 0.7},\n",
       "  mean: -0.64109, std: 0.01422, params: {'colsample_bytree': 0.8, 'subsample': 0.8},\n",
       "  mean: -0.64662, std: 0.01428, params: {'colsample_bytree': 0.9, 'subsample': 0.3},\n",
       "  mean: -0.64281, std: 0.01341, params: {'colsample_bytree': 0.9, 'subsample': 0.4},\n",
       "  mean: -0.64557, std: 0.01338, params: {'colsample_bytree': 0.9, 'subsample': 0.5},\n",
       "  mean: -0.64004, std: 0.01334, params: {'colsample_bytree': 0.9, 'subsample': 0.6},\n",
       "  mean: -0.64086, std: 0.01396, params: {'colsample_bytree': 0.9, 'subsample': 0.7},\n",
       "  mean: -0.63775, std: 0.01083, params: {'colsample_bytree': 0.9, 'subsample': 0.8}],\n",
       " {'colsample_bytree': 0.9, 'subsample': 0.8},\n",
       " -0.63775438184471533)"
      ]
     },
     "execution_count": 33,
     "metadata": {},
     "output_type": "execute_result"
    }
   ],
   "source": [
    "\n",
    "gsearch3 = GridSearchCV(xgb5, param_grid = param_test3, scoring='neg_log_loss',n_jobs=-1, cv=kfold)\n",
    "gsearch3.fit(X_train , y_train)\n",
    "\n",
    "gsearch3.grid_scores_"
   ]
  },
  {
   "cell_type": "code",
   "execution_count": null,
   "metadata": {},
   "outputs": [],
   "source": [
    "gsearch3.best_params_,     gsearch3.best_score_"
   ]
  },
  {
   "cell_type": "markdown",
   "metadata": {},
   "source": [
    "## 初步设置正则参数 "
   ]
  },
  {
   "cell_type": "code",
   "execution_count": 35,
   "metadata": {
    "ExecuteTime": {
     "end_time": "2018-02-19T02:12:42.662713Z",
     "start_time": "2018-02-19T02:12:42.654708Z"
    }
   },
   "outputs": [
    {
     "data": {
      "text/plain": [
       "{'reg_alpha': [1.5, 2], 'reg_lambda': [0.5, 1, 2]}"
      ]
     },
     "execution_count": 35,
     "metadata": {},
     "output_type": "execute_result"
    }
   ],
   "source": [
    "reg_alpha = [ 1.5, 2]    #default = 0, 测试0.1,1，1.5，2\n",
    "reg_lambda = [0.5, 1, 2]      #default = 1，测试0.1， 0.5， 1，2\n",
    "\n",
    "param_test6 = dict(reg_alpha=reg_alpha, reg_lambda=reg_lambda)\n",
    "param_test6"
   ]
  },
  {
   "cell_type": "code",
   "execution_count": 34,
   "metadata": {
    "ExecuteTime": {
     "end_time": "2018-02-19T02:12:38.954322Z",
     "start_time": "2018-02-19T02:12:38.945315Z"
    }
   },
   "outputs": [],
   "source": [
    "xgb6 = XGBClassifier(\n",
    "        learning_rate =0.1,\n",
    "        n_estimators=cvresult2.shape[0],  #第一轮参数调整得到的n_estimators最优值\n",
    "        max_depth=4,\n",
    "        min_child_weight=2,\n",
    "        gamma=0,\n",
    "        subsample=0.9,\n",
    "        colsample_bytree=0.8,\n",
    "        colsample_bylevel = 0.7,\n",
    "        objective= 'multi:softprob',\n",
    "        seed=3)"
   ]
  },
  {
   "cell_type": "code",
   "execution_count": 36,
   "metadata": {
    "ExecuteTime": {
     "end_time": "2018-02-19T02:14:43.738371Z",
     "start_time": "2018-02-19T02:13:30.302940Z"
    }
   },
   "outputs": [
    {
     "name": "stderr",
     "output_type": "stream",
     "text": [
      "C:\\ProgramData\\Anaconda3\\lib\\site-packages\\sklearn\\model_selection\\_search.py:761: DeprecationWarning: The grid_scores_ attribute was deprecated in version 0.18 in favor of the more elaborate cv_results_ attribute. The grid_scores_ attribute will not be available from 0.20\n",
      "  DeprecationWarning)\n"
     ]
    },
    {
     "data": {
      "text/plain": [
       "([mean: -0.63844, std: 0.01390, params: {'reg_alpha': 1.5, 'reg_lambda': 0.5},\n",
       "  mean: -0.63944, std: 0.01394, params: {'reg_alpha': 1.5, 'reg_lambda': 1},\n",
       "  mean: -0.63982, std: 0.01355, params: {'reg_alpha': 1.5, 'reg_lambda': 2},\n",
       "  mean: -0.63983, std: 0.01340, params: {'reg_alpha': 2, 'reg_lambda': 0.5},\n",
       "  mean: -0.64019, std: 0.01359, params: {'reg_alpha': 2, 'reg_lambda': 1},\n",
       "  mean: -0.64112, std: 0.01411, params: {'reg_alpha': 2, 'reg_lambda': 2}],\n",
       " {'reg_alpha': 1.5, 'reg_lambda': 0.5},\n",
       " -0.63843532375379897)"
      ]
     },
     "execution_count": 36,
     "metadata": {},
     "output_type": "execute_result"
    }
   ],
   "source": [
    "\n",
    "gsearch6 = GridSearchCV(xgb6, param_grid = param_test6, scoring='neg_log_loss',n_jobs=-1, cv=kfold)\n",
    "gsearch6.fit(X_train , y_train)\n",
    "\n",
    "gsearch6.grid_scores_, "
   ]
  },
  {
   "cell_type": "code",
   "execution_count": null,
   "metadata": {},
   "outputs": [],
   "source": [
    "gsearch6.best_params_,     gsearch6.best_score_"
   ]
  },
  {
   "cell_type": "markdown",
   "metadata": {},
   "source": [
    "## 再次调整正则参数 "
   ]
  },
  {
   "cell_type": "code",
   "execution_count": 40,
   "metadata": {
    "ExecuteTime": {
     "end_time": "2018-02-19T02:22:58.101877Z",
     "start_time": "2018-02-19T02:22:58.093871Z"
    }
   },
   "outputs": [
    {
     "data": {
      "text/plain": [
       "{'reg_alpha': [0, 1, 1.5, 2], 'reg_lambda': [0.1, 0.5, 1]}"
      ]
     },
     "execution_count": 40,
     "metadata": {},
     "output_type": "execute_result"
    }
   ],
   "source": [
    "reg_alpha = [0, 1, 1.5, 2]    #default = 0, 测试0.1,1，1.5，2\n",
    "reg_lambda = [0.1, 0.5, 1]      #default = 1，测试0.1， 0.5， 1，2\n",
    "\n",
    "param_test7 = dict(reg_alpha=reg_alpha, reg_lambda=reg_lambda)\n",
    "param_test7"
   ]
  },
  {
   "cell_type": "code",
   "execution_count": 41,
   "metadata": {
    "ExecuteTime": {
     "end_time": "2018-02-19T02:22:58.491121Z",
     "start_time": "2018-02-19T02:22:58.484116Z"
    }
   },
   "outputs": [],
   "source": [
    "xgb7 = XGBClassifier(\n",
    "        learning_rate =0.1,\n",
    "        n_estimators=cvresult2.shape[0],  #第一轮参数调整得到的n_estimators最优值\n",
    "        max_depth=4,\n",
    "        min_child_weight=2,\n",
    "        gamma=0,\n",
    "        subsample=0.9,\n",
    "        colsample_bytree=0.8,\n",
    "        colsample_bylevel = 0.7,\n",
    "        objective= 'multi:softprob',\n",
    "        seed=3)"
   ]
  },
  {
   "cell_type": "code",
   "execution_count": 42,
   "metadata": {
    "ExecuteTime": {
     "end_time": "2018-02-19T02:24:12.231725Z",
     "start_time": "2018-02-19T02:22:59.065830Z"
    }
   },
   "outputs": [
    {
     "name": "stderr",
     "output_type": "stream",
     "text": [
      "C:\\ProgramData\\Anaconda3\\lib\\site-packages\\sklearn\\model_selection\\_search.py:761: DeprecationWarning: The grid_scores_ attribute was deprecated in version 0.18 in favor of the more elaborate cv_results_ attribute. The grid_scores_ attribute will not be available from 0.20\n",
      "  DeprecationWarning)\n"
     ]
    },
    {
     "data": {
      "text/plain": [
       "([mean: -0.63844, std: 0.01390, params: {'reg_alpha': 1.5, 'reg_lambda': 0.5},\n",
       "  mean: -0.63944, std: 0.01394, params: {'reg_alpha': 1.5, 'reg_lambda': 1},\n",
       "  mean: -0.63982, std: 0.01355, params: {'reg_alpha': 1.5, 'reg_lambda': 2},\n",
       "  mean: -0.63983, std: 0.01340, params: {'reg_alpha': 2, 'reg_lambda': 0.5},\n",
       "  mean: -0.64019, std: 0.01359, params: {'reg_alpha': 2, 'reg_lambda': 1},\n",
       "  mean: -0.64112, std: 0.01411, params: {'reg_alpha': 2, 'reg_lambda': 2}],\n",
       " {'reg_alpha': 1.5, 'reg_lambda': 0.5},\n",
       " -0.63843532375379897)"
      ]
     },
     "execution_count": 42,
     "metadata": {},
     "output_type": "execute_result"
    }
   ],
   "source": [
    "\n",
    "gsearch7 = GridSearchCV(xgb6, param_grid = param_test6, scoring='neg_log_loss',n_jobs=-1, cv=kfold)\n",
    "gsearch7.fit(X_train , y_train)\n",
    "\n",
    "gsearch7.grid_scores_, "
   ]
  },
  {
   "cell_type": "code",
   "execution_count": null,
   "metadata": {},
   "outputs": [],
   "source": [
    "gsearch7.best_params_, gsearch7.best_score_"
   ]
  }
 ],
 "metadata": {
  "kernelspec": {
   "display_name": "Python 3",
   "language": "python",
   "name": "python3"
  },
  "language_info": {
   "codemirror_mode": {
    "name": "ipython",
    "version": 3
   },
   "file_extension": ".py",
   "mimetype": "text/x-python",
   "name": "python",
   "nbconvert_exporter": "python",
   "pygments_lexer": "ipython3",
   "version": "3.6.3"
  },
  "toc": {
   "nav_menu": {},
   "number_sections": true,
   "sideBar": true,
   "skip_h1_title": false,
   "title_cell": "Table of Contents",
   "title_sidebar": "Contents",
   "toc_cell": false,
   "toc_position": {},
   "toc_section_display": true,
   "toc_window_display": false
  }
 },
 "nbformat": 4,
 "nbformat_minor": 2
}
